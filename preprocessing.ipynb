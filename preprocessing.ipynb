{
 "cells": [
  {
   "cell_type": "code",
   "execution_count": 2,
   "id": "23826265",
   "metadata": {},
   "outputs": [],
   "source": [
    "import librosa\n",
    "import numpy as np\n",
    "import os\n",
    "import torch\n",
    "from pathlib import Path\n",
    "\n",
    "np.set_printoptions(suppress=True)"
   ]
  },
  {
   "cell_type": "code",
   "execution_count": 6,
   "id": "2e1d92aa",
   "metadata": {},
   "outputs": [],
   "source": [
    "dataset = 'training/college_basketball'\n",
    "# sample_rate = librosa.load(\"training/navy_vs_american_2_26/ads/ad [2025-03-12 114540].wav\")[1]\n",
    "# print(sample_rate)\n",
    "\n",
    "sample_rate = 16000"
   ]
  },
  {
   "cell_type": "code",
   "execution_count": 5,
   "id": "51465e45",
   "metadata": {},
   "outputs": [
    {
     "ename": "FileNotFoundError",
     "evalue": "[Errno 2] No such file or directory: 'training/college_basketball/ads/ads'",
     "output_type": "error",
     "traceback": [
      "\u001b[31m---------------------------------------------------------------------------\u001b[39m",
      "\u001b[31mFileNotFoundError\u001b[39m                         Traceback (most recent call last)",
      "\u001b[36mCell\u001b[39m\u001b[36m \u001b[39m\u001b[32mIn[5]\u001b[39m\u001b[32m, line 15\u001b[39m\n\u001b[32m     13\u001b[39m ads_labeled = []\n\u001b[32m     14\u001b[39m broadcast_labeled = []\n\u001b[32m---> \u001b[39m\u001b[32m15\u001b[39m \u001b[38;5;28;01mfor\u001b[39;00m ad \u001b[38;5;129;01min\u001b[39;00m \u001b[43mos\u001b[49m\u001b[43m.\u001b[49m\u001b[43mlistdir\u001b[49m\u001b[43m(\u001b[49m\u001b[43mads\u001b[49m\u001b[43m)\u001b[49m:\n\u001b[32m     16\u001b[39m     audio, sr = librosa.load(os.path.join(ads, ad), sr=sample_rate, mono=\u001b[38;5;28;01mTrue\u001b[39;00m)\n\u001b[32m     17\u001b[39m     labels = np.ones_like(audio)\n",
      "\u001b[31mFileNotFoundError\u001b[39m: [Errno 2] No such file or directory: 'training/college_basketball/ads/ads'"
     ]
    }
   ],
   "source": [
    "# 0: broadcast\n",
    "# 1: advertisement\n",
    "\n",
    "ads_tensor = []\n",
    "broadcast_tensor = []\n",
    "\n",
    "for recording in os.listdir(dataset):\n",
    "    ads = os.path.join(dataset, recording, 'ads')\n",
    "    broadcast = os.path.join(dataset, recording, 'broadcast')\n",
    "    # misc = os.path.join(dataset, recording, 'misc')\n",
    "\n",
    "    # load audio into numpy arrays shape (clip, sample, (aplitude value, label))\n",
    "    ads_labeled = []\n",
    "    broadcast_labeled = []\n",
    "    for ad in os.listdir(ads):\n",
    "        audio, sr = librosa.load(os.path.join(ads, ad), sr=sample_rate, mono=True)\n",
    "        labels = np.ones_like(audio)\n",
    "        ads_labeled.append(np.stack((audio, labels), axis=1))\n",
    "\n",
    "    for segment in os.listdir(broadcast):\n",
    "        audio, sr = librosa.load(os.path.join(broadcast, segment), sr=sample_rate, mono=True)\n",
    "        labels = np.zeros_like(audio)\n",
    "        broadcast_labeled.append(np.stack((audio, labels), axis=1))\n",
    "\n",
    "    ads_tensor.extend(ads_labeled)\n",
    "    broadcast_tensor.extend(broadcast_labeled)\n",
    "\n",
    "print(f\"{sum(len(x) for x in ads_tensor)//sr} seconds of advertising over {len(ads_tensor)} ads\")\n",
    "print(f\"{sum(len(x) for x in broadcast_tensor)//sr} seconds of actual broadcasting over {len(broadcast_tensor)} segments\")"
   ]
  },
  {
   "cell_type": "code",
   "execution_count": 5,
   "id": "619c936b",
   "metadata": {},
   "outputs": [],
   "source": [
    "# split a segment into k-second clips\n",
    "\n",
    "clip_duration = 1.0\n",
    "samples_per_clip = int(sample_rate * clip_duration)\n",
    "all_clips = []\n",
    "for ad_segment in ads_tensor:\n",
    "    total_chunks = int(len(ad_segment) // samples_per_clip)\n",
    "\n",
    "    clip = [\n",
    "        ad_segment[i * samples_per_clip : (i + 1) * samples_per_clip]\n",
    "        for i in range(total_chunks)\n",
    "    ]\n",
    "\n",
    "    all_clips.extend(clip)\n",
    "\n",
    "for broadcast_segment in broadcast_tensor:\n",
    "    total_chunks = int(len(broadcast_segment) // samples_per_clip)\n",
    "\n",
    "    clip = [\n",
    "        broadcast_segment[i * samples_per_clip : (i + 1) * samples_per_clip]\n",
    "        for i in range(total_chunks)\n",
    "    ]\n",
    "\n",
    "    all_clips.extend(clip)\n"
   ]
  },
  {
   "cell_type": "code",
   "execution_count": 6,
   "id": "92ac16b3",
   "metadata": {},
   "outputs": [
    {
     "name": "stdout",
     "output_type": "stream",
     "text": [
      "Saved 3906 clips to /Users/lense/Documents/projects/entertainment/clips_16000Hz_1.0s.npz\n"
     ]
    }
   ],
   "source": [
    "clips_np = np.stack([clip.astype(np.float32, copy=False) for clip in all_clips])\n",
    "\n",
    "out_path = Path(f\"clips_{sample_rate}Hz_{clip_duration}s.npz\")\n",
    "np.savez_compressed(\n",
    "    out_path,\n",
    "    clips=clips_np,               # (N, samples_per_clip)\n",
    "    sample_rate=np.int32(sample_rate),\n",
    "    clip_duration=np.float32(clip_duration),\n",
    ")\n",
    "\n",
    "print(f\"Saved {clips_np.shape[0]} clips to {out_path.resolve()}\")"
   ]
  },
  {
   "cell_type": "code",
   "execution_count": 7,
   "id": "4180cfb4",
   "metadata": {},
   "outputs": [
    {
     "name": "stdout",
     "output_type": "stream",
     "text": [
      "(3906, 16000, 2)\n",
      "(16000, 2)\n",
      "[-0.00000413  1.        ]\n"
     ]
    }
   ],
   "source": [
    "print(clips_np.shape)\n",
    "print(clips_np[0].shape)\n",
    "print(clips_np[0][0])"
   ]
  }
 ],
 "metadata": {
  "kernelspec": {
   "display_name": "env",
   "language": "python",
   "name": "python3"
  },
  "language_info": {
   "codemirror_mode": {
    "name": "ipython",
    "version": 3
   },
   "file_extension": ".py",
   "mimetype": "text/x-python",
   "name": "python",
   "nbconvert_exporter": "python",
   "pygments_lexer": "ipython3",
   "version": "3.13.2"
  }
 },
 "nbformat": 4,
 "nbformat_minor": 5
}
