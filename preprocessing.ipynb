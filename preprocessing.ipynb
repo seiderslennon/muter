{
 "cells": [
  {
   "cell_type": "code",
   "execution_count": 1,
   "id": "23826265",
   "metadata": {},
   "outputs": [],
   "source": [
    "import librosa\n",
    "import numpy as np\n",
    "import os\n",
    "import torch\n",
    "from pathlib import Path\n",
    "\n",
    "np.set_printoptions(suppress=True)"
   ]
  },
  {
   "cell_type": "code",
   "execution_count": 2,
   "id": "2e1d92aa",
   "metadata": {},
   "outputs": [
    {
     "name": "stdout",
     "output_type": "stream",
     "text": [
      "22050\n"
     ]
    }
   ],
   "source": [
    "dataset = 'training'\n",
    "sample_rate = librosa.load(\"training/navy_vs_american_2_26/ads/ad [2025-03-12 114540].wav\")[1]\n",
    "print(sample_rate)"
   ]
  },
  {
   "cell_type": "code",
   "execution_count": 3,
   "id": "51465e45",
   "metadata": {},
   "outputs": [
    {
     "name": "stdout",
     "output_type": "stream",
     "text": [
      "866 seconds of advertising over 31 ads\n",
      "3055 seconds of actual broadcasting over 6 segments\n"
     ]
    }
   ],
   "source": [
    "# 0: broadcast\n",
    "# 1: advertisement\n",
    "\n",
    "ads_tensor = []\n",
    "broadcast_tensor = []\n",
    "\n",
    "for recording in os.listdir(dataset):\n",
    "    ads = os.path.join(dataset, recording, 'ads')\n",
    "    broadcast = os.path.join(dataset, recording, 'broadcast')\n",
    "    # misc = os.path.join(dataset, recording, 'misc')\n",
    "\n",
    "    # load audio into numpy arrays shape (clip, sample, (aplitude value, label))\n",
    "    ads_labeled = []\n",
    "    broadcast_labeled = []\n",
    "    for ad in os.listdir(ads):\n",
    "        audio, sr = librosa.load(os.path.join(ads, ad), sr=sample_rate, mono=True)\n",
    "        labels = np.ones_like(audio)\n",
    "        ads_labeled.append(np.stack((audio, labels), axis=1))\n",
    "\n",
    "    for segment in os.listdir(broadcast):\n",
    "        audio, sr = librosa.load(os.path.join(broadcast, segment), sr=sample_rate, mono=True)\n",
    "        labels = np.zeros_like(audio)\n",
    "        broadcast_labeled.append(np.stack((audio, labels), axis=1))\n",
    "\n",
    "    ads_tensor.extend(ads_labeled)\n",
    "    broadcast_tensor.extend(broadcast_labeled)\n",
    "\n",
    "print(f\"{sum(len(x) for x in ads_tensor)//sr} seconds of advertising over {len(ads_tensor)} ads\")\n",
    "print(f\"{sum(len(x) for x in broadcast_tensor)//sr} seconds of actual broadcasting over {len(broadcast_tensor)} segments\")"
   ]
  },
  {
   "cell_type": "code",
   "execution_count": 4,
   "id": "619c936b",
   "metadata": {},
   "outputs": [],
   "source": [
    "# split a segment into k-second clips\n",
    "\n",
    "clip_duration = 3.0\n",
    "samples_per_clip = int(sample_rate * clip_duration)\n",
    "all_clips = []\n",
    "for ad_segment in ads_tensor:\n",
    "    total_chunks = int(len(ad_segment) // samples_per_clip)\n",
    "\n",
    "    clip = [\n",
    "        ad_segment[i * samples_per_clip : (i + 1) * samples_per_clip]\n",
    "        for i in range(total_chunks)\n",
    "    ]\n",
    "\n",
    "    all_clips.extend(clip)\n",
    "\n",
    "for broadcast_segment in broadcast_tensor:\n",
    "    total_chunks = int(len(broadcast_segment) // samples_per_clip)\n",
    "\n",
    "    clip = [\n",
    "        broadcast_segment[i * samples_per_clip : (i + 1) * samples_per_clip]\n",
    "        for i in range(total_chunks)\n",
    "    ]\n",
    "\n",
    "    all_clips.extend(clip)\n"
   ]
  },
  {
   "cell_type": "code",
   "execution_count": 6,
   "id": "92ac16b3",
   "metadata": {},
   "outputs": [
    {
     "name": "stdout",
     "output_type": "stream",
     "text": [
      "Saved 1290 clips to /Users/lense/Documents/projects/entertainment/clips_22050Hz_3.0s.npz\n"
     ]
    }
   ],
   "source": [
    "clips_np = np.stack([clip.astype(np.float32, copy=False) for clip in all_clips])\n",
    "\n",
    "out_path = Path(f\"clips_{sample_rate}Hz_{clip_duration}s.npz\")\n",
    "np.savez_compressed(\n",
    "    out_path,\n",
    "    clips=clips_np,               # (N, samples_per_clip)\n",
    "    sample_rate=np.int32(sample_rate),\n",
    "    clip_duration=np.float32(clip_duration),\n",
    ")\n",
    "\n",
    "print(f\"Saved {clips_np.shape[0]} clips to {out_path.resolve()}\")"
   ]
  }
 ],
 "metadata": {
  "kernelspec": {
   "display_name": "env",
   "language": "python",
   "name": "python3"
  },
  "language_info": {
   "codemirror_mode": {
    "name": "ipython",
    "version": 3
   },
   "file_extension": ".py",
   "mimetype": "text/x-python",
   "name": "python",
   "nbconvert_exporter": "python",
   "pygments_lexer": "ipython3",
   "version": "3.13.2"
  }
 },
 "nbformat": 4,
 "nbformat_minor": 5
}
